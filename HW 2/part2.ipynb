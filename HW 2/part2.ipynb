{
  "nbformat": 4,
  "nbformat_minor": 0,
  "metadata": {
    "colab": {
      "name": "HW2_part2.ipynb",
      "provenance": [],
      "collapsed_sections": []
    },
    "kernelspec": {
      "name": "python3",
      "display_name": "Python 3"
    },
    "accelerator": "GPU"
  },
  "cells": [
    {
      "cell_type": "code",
      "metadata": {
        "id": "uAnzn0tf7aCk",
        "colab_type": "code",
        "colab": {}
      },
      "source": [
        "import torch\n",
        "import pandas as pd\n",
        "import matplotlib.pyplot as plt\n",
        "from torch.utils.data import Dataset, DataLoader\n",
        "from torch import nn\n",
        "from tqdm import tqdm_notebook as tqdm\n",
        "from tqdm import tqdm as tqdm_"
      ],
      "execution_count": 0,
      "outputs": []
    },
    {
      "cell_type": "code",
      "metadata": {
        "id": "c3SaOhdXRn_S",
        "colab_type": "code",
        "colab": {}
      },
      "source": [
        "# set device\n",
        "device = torch.device('cuda') if torch.cuda.is_available() else torch.device('cpu')"
      ],
      "execution_count": 0,
      "outputs": []
    },
    {
      "cell_type": "code",
      "metadata": {
        "id": "PaM9Sp1q7g1s",
        "colab_type": "code",
        "colab": {}
      },
      "source": [
        "class NewsPopularityDataset(Dataset):\n",
        "  \n",
        "  def __init__(self, filename):\n",
        "    self.dataset = pd.read_csv(filename, delimiter=',')\n",
        "    self.dataset = self.dataset.values\n",
        "    self.dataset = torch.tensor(self.dataset)\n",
        "    \n",
        "    \n",
        "  def __len__(self):\n",
        "    return len(self.dataset)\n",
        "  \n",
        "  def __getitem__(self, idx):\n",
        "    return self.dataset[idx, :-1].float(), self.dataset[idx, -1].long()\n"
      ],
      "execution_count": 0,
      "outputs": []
    },
    {
      "cell_type": "code",
      "metadata": {
        "id": "iLHBjNENA7GE",
        "colab_type": "code",
        "outputId": "7519f122-8806-4b02-c2cb-e9c9b80b2e1a",
        "colab": {
          "base_uri": "https://localhost:8080/",
          "height": 35
        }
      },
      "source": [
        "from google.colab import drive\n",
        "drive.mount('/content/gdrive')"
      ],
      "execution_count": 4,
      "outputs": [
        {
          "output_type": "stream",
          "text": [
            "Mounted at /content/gdrive\n"
          ],
          "name": "stdout"
        }
      ]
    },
    {
      "cell_type": "code",
      "metadata": {
        "id": "HjszT7OwC-EH",
        "colab_type": "code",
        "colab": {}
      },
      "source": [
        "train_filename = \"gdrive/My Drive/Colab Notebooks/OnlineNewsPopularity/train_data.csv\"\n",
        "val_filename = \"gdrive/My Drive/Colab Notebooks/OnlineNewsPopularity/test_data.csv\""
      ],
      "execution_count": 0,
      "outputs": []
    },
    {
      "cell_type": "code",
      "metadata": {
        "id": "kKqA3qORDBpi",
        "colab_type": "code",
        "colab": {}
      },
      "source": [
        "train_dataset = NewsPopularityDataset(train_filename)\n",
        "val_dataset = NewsPopularityDataset(val_filename)"
      ],
      "execution_count": 0,
      "outputs": []
    },
    {
      "cell_type": "code",
      "metadata": {
        "id": "zBHbRe0XEc5H",
        "colab_type": "code",
        "colab": {}
      },
      "source": [
        "train_loader = DataLoader(train_dataset, batch_size=64, shuffle=True)\n",
        "val_loader = DataLoader(val_dataset, batch_size=64, shuffle=True)"
      ],
      "execution_count": 0,
      "outputs": []
    },
    {
      "cell_type": "code",
      "metadata": {
        "id": "KDs2bECUFftD",
        "colab_type": "code",
        "outputId": "c4e4b556-da87-48b5-9b67-63c313dc5e8f",
        "colab": {
          "base_uri": "https://localhost:8080/",
          "height": 295
        }
      },
      "source": [
        "next(iter(train_loader))"
      ],
      "execution_count": 8,
      "outputs": [
        {
          "output_type": "execute_result",
          "data": {
            "text/plain": [
              "[tensor([[2.1370e+03, 6.9500e+02, 8.0000e+00,  ..., 5.0000e-01, 0.0000e+00,\n",
              "          5.3800e+02],\n",
              "         [2.5184e+04, 2.3900e+02, 1.2000e+01,  ..., 3.5714e-02, 2.8571e-01,\n",
              "          2.5000e+03],\n",
              "         [1.3050e+03, 7.0900e+02, 1.0000e+01,  ..., 5.0000e-01, 5.0000e-01,\n",
              "          2.8000e+03],\n",
              "         ...,\n",
              "         [2.5815e+04, 2.2700e+02, 1.1000e+01,  ..., 3.2500e-01, 0.0000e+00,\n",
              "          1.5000e+03],\n",
              "         [1.4913e+04, 4.4300e+02, 9.0000e+00,  ..., 5.0000e-01, 0.0000e+00,\n",
              "          8.2900e+02],\n",
              "         [3.8708e+04, 2.7000e+01, 1.1000e+01,  ..., 1.0000e-01, 5.0000e-02,\n",
              "          9.3600e+02]]),\n",
              " tensor([1, 2, 1, 3, 1, 1, 2, 2, 5, 1, 3, 5, 1, 5, 1, 2, 3, 0, 4, 0, 1, 0, 2, 3,\n",
              "         1, 3, 1, 3, 1, 0, 1, 0, 1, 2, 3, 3, 5, 1, 0, 3, 0, 3, 2, 4, 3, 0, 2, 3,\n",
              "         5, 0, 2, 2, 3, 0, 3, 2, 1, 3, 3, 1, 2, 0, 1, 4])]"
            ]
          },
          "metadata": {
            "tags": []
          },
          "execution_count": 8
        }
      ]
    },
    {
      "cell_type": "code",
      "metadata": {
        "id": "Rn4O9lyVFi7y",
        "colab_type": "code",
        "colab": {}
      },
      "source": [
        "# define model\n",
        "\n",
        "class Model(nn.Module):\n",
        "  def __init__(self, num_features, num_classes):\n",
        "    super(Model, self).__init__()\n",
        "    \n",
        "    self.fc1 = nn.Linear(num_features, 64)\n",
        "    self.relu1 = nn.ReLU()\n",
        "    self.fc2 = nn.Linear(64, 128)\n",
        "    self.relu2 = nn.ReLU()\n",
        "    self.fc3 = nn.Linear(128, 256)\n",
        "    self.relu3 = nn.ReLU()\n",
        "    self.fc4 = nn.Linear(256, 256)\n",
        "    self.relu4 = nn.ReLU()\n",
        "    self.fc5 = nn.Linear(256, 128)\n",
        "    self.relu5 = nn.ReLU()\n",
        "    self.fc6 = nn.Linear(128, 64)\n",
        "    self.relu6 = nn.ReLU()\n",
        "    self.fc7 = nn.Linear(64, num_classes)\n",
        "    \n",
        "  def forward(self, x):\n",
        "    x = self.relu1(self.fc1(x))\n",
        "    x = self.relu2(self.fc2(x))\n",
        "    x = self.relu3(self.fc3(x))\n",
        "    x = self.relu4(self.fc4(x))\n",
        "    x = self.relu5(self.fc5(x))\n",
        "    x = self.relu6(self.fc6(x))\n",
        "    x = self.fc7(x)\n",
        "    return x\n",
        "  \n",
        "  "
      ],
      "execution_count": 0,
      "outputs": []
    },
    {
      "cell_type": "code",
      "metadata": {
        "id": "3zCPMdxaGvU7",
        "colab_type": "code",
        "colab": {}
      },
      "source": [
        "# define train method\n",
        "\n",
        "def train(data_loader, model, optimizer, criterion, curr_epoch, tot_epochs, device):\n",
        "  \n",
        "  # set model to training mode\n",
        "  model.train()\n",
        "  \n",
        "  tot_train_loss = 0.0\n",
        "  \n",
        "  train_meter = tqdm(\n",
        "      data_loader, unit=' batches',\n",
        "      desc=f'[Epoch {curr_epoch}/{tot_epochs}]',\n",
        "      leave=False\n",
        "  )\n",
        "  \n",
        "  for batch_idx, (sample, label) in enumerate(train_meter):\n",
        "    \n",
        "    # transfer to device\n",
        "    sample, label = sample.to(device), label.to(device)\n",
        "    \n",
        "    # zero out gradients\n",
        "    optimizer.zero_grad()\n",
        "    \n",
        "    # forward pass\n",
        "    out = model(sample)\n",
        "    \n",
        "    # compute loss\n",
        "    loss = criterion(out, label)\n",
        "    \n",
        "    # backward\n",
        "    loss.backward()\n",
        "    \n",
        "    # optimizer step\n",
        "    optimizer.step()\n",
        "    \n",
        "    # update tqdm meter\n",
        "    train_meter.set_postfix(train_loss=f'{loss.item():0.4f}')\n",
        "    train_meter.update()\n",
        "    \n",
        "    # add to total train loss\n",
        "    tot_train_loss = tot_train_loss + loss.item()\n",
        "    \n",
        "  av_train_loss = tot_train_loss / (batch_idx + 1)\n",
        "  return av_train_loss"
      ],
      "execution_count": 0,
      "outputs": []
    },
    {
      "cell_type": "code",
      "metadata": {
        "id": "iUV7a72rO4eN",
        "colab_type": "code",
        "colab": {}
      },
      "source": [
        "# define validation method\n",
        "\n",
        "def validate(data_loader, model, criterion, device):\n",
        "  \n",
        "  # set model to eval mode\n",
        "  model.eval()\n",
        "  \n",
        "  tot_val_loss = 0.0\n",
        "  corrects = 0\n",
        "  total = 0\n",
        "  \n",
        "  val_meter = tqdm(\n",
        "      data_loader, unit=' batches',\n",
        "      desc='val',\n",
        "      leave=False\n",
        "  )\n",
        "  \n",
        "  with torch.no_grad():\n",
        "    for batch_idx, (sample, label) in enumerate(val_meter):\n",
        "\n",
        "      # transfer to device\n",
        "      sample, label = sample.to(device), label.to(device)\n",
        "\n",
        "      # forward pass\n",
        "      out = model(sample)\n",
        "\n",
        "      # compute loss\n",
        "      loss = criterion(out, label)\n",
        "      \n",
        "      # compute the prediction\n",
        "      max_value, pred = torch.max(out, dim=-1)\n",
        "      \n",
        "      # compute number of correct predictions\n",
        "#       print('before update', corrects, (pred == label).sum().item())\n",
        "      corrects += (pred == label).sum().item()\n",
        "#       print('after update', corrects, (pred == label).sum().item())\n",
        "      # update total samples\n",
        "      total = total + len(label)\n",
        "\n",
        "      # update tqdm meter\n",
        "      val_meter.set_postfix(val_loss=f'{loss.item():0.4f}')\n",
        "      val_meter.update()\n",
        "\n",
        "      # add to total val loss\n",
        "      tot_val_loss = tot_val_loss + loss.item()\n",
        "\n",
        "  av_val_loss = tot_val_loss / (batch_idx + 1)\n",
        "#   print(corrects, total)\n",
        "  accuracy = corrects / total\n",
        "  return av_val_loss, accuracy"
      ],
      "execution_count": 0,
      "outputs": []
    },
    {
      "cell_type": "code",
      "metadata": {
        "id": "VLdTL1zRPrkz",
        "colab_type": "code",
        "colab": {
          "base_uri": "https://localhost:8080/",
          "height": 347
        },
        "outputId": "e4d8fc39-282a-42c3-a1b9-23431f031ac1"
      },
      "source": [
        "# specify learning rate\n",
        "learning_rate = 0.001\n",
        "\n",
        "# create model object\n",
        "model = Model(53, 7)\n",
        "\n",
        "# transfer model to device\n",
        "model = model.to(device)\n",
        "\n",
        "# print model\n",
        "print(89 * '-' + '\\n', model, '\\n' + 89 * '-')\n",
        "\n",
        "# print number of parameters\n",
        "print('number of parameters:', sum(m.numel() for m in model.parameters()))\n",
        "print(89 * '-')\n",
        "\n",
        "# create optimizer\n",
        "optimizer = torch.optim.Adam(\n",
        "    filter(lambda param: param.requires_grad, model.parameters()),\n",
        "    lr=learning_rate\n",
        ")\n",
        "\n",
        "# specify criterion\n",
        "criterion = nn.CrossEntropyLoss()"
      ],
      "execution_count": 25,
      "outputs": [
        {
          "output_type": "stream",
          "text": [
            "-----------------------------------------------------------------------------------------\n",
            " Model(\n",
            "  (fc1): Linear(in_features=53, out_features=64, bias=True)\n",
            "  (relu1): ReLU()\n",
            "  (fc2): Linear(in_features=64, out_features=128, bias=True)\n",
            "  (relu2): ReLU()\n",
            "  (fc3): Linear(in_features=128, out_features=256, bias=True)\n",
            "  (relu3): ReLU()\n",
            "  (fc4): Linear(in_features=256, out_features=256, bias=True)\n",
            "  (relu4): ReLU()\n",
            "  (fc5): Linear(in_features=256, out_features=128, bias=True)\n",
            "  (relu5): ReLU()\n",
            "  (fc6): Linear(in_features=128, out_features=64, bias=True)\n",
            "  (relu6): ReLU()\n",
            "  (fc7): Linear(in_features=64, out_features=7, bias=True)\n",
            ") \n",
            "-----------------------------------------------------------------------------------------\n",
            "number of parameters: 152199\n",
            "-----------------------------------------------------------------------------------------\n"
          ],
          "name": "stdout"
        }
      ]
    },
    {
      "cell_type": "code",
      "metadata": {
        "id": "bkgUBNJFSYTJ",
        "colab_type": "code",
        "outputId": "2347bca2-ab97-49d0-fb9b-fec84dd5ebea",
        "colab": {
          "base_uri": "https://localhost:8080/",
          "height": 104
        }
      },
      "source": [
        "# specify max number of epochs\n",
        "num_epochs = 100\n",
        "\n",
        "train_losses, val_losses, accs = [], [], []\n",
        "\n",
        "for epoch in range(1, num_epochs + 1):\n",
        "  train_loss = train(train_loader, model, optimizer, criterion, epoch, num_epochs, device)\n",
        "  val_loss, accuracy = validate(val_loader, model, criterion, device)\n",
        "  \n",
        "  # check for early stopping\n",
        "  if all(val_loss > loss for loss in val_losses[-3:]) and len(val_losses) > 2: \n",
        "    print('stopping early')\n",
        "    break\n",
        "  \n",
        "  # save losses\n",
        "  train_losses.append(train_loss)\n",
        "  val_losses.append(val_loss)\n",
        "  accs.append(accuracy)\n",
        "  \n",
        "  # print losses and accuracies\n",
        "  tqdm_.write(f'[Epoch {epoch}/{num_epochs}] \\\n",
        "             train loss: {train_loss:0.4f}, \\\n",
        "             val loss: {val_loss:0.4f}, \\\n",
        "             accuracy: {accuracy * 100:0.2f} %')"
      ],
      "execution_count": 52,
      "outputs": [
        {
          "output_type": "display_data",
          "data": {
            "application/vnd.jupyter.widget-view+json": {
              "model_id": "1c672f555181446589a951188aeed6d8",
              "version_minor": 0,
              "version_major": 2
            },
            "text/plain": [
              "HBox(children=(IntProgress(value=0, description='[Epoch 1/100]', max=598, style=ProgressStyle(description_widt…"
            ]
          },
          "metadata": {
            "tags": []
          }
        },
        {
          "output_type": "stream",
          "text": [
            "\r"
          ],
          "name": "stdout"
        },
        {
          "output_type": "display_data",
          "data": {
            "application/vnd.jupyter.widget-view+json": {
              "model_id": "fcc1cbbb0bc54255a7c88285c74eb762",
              "version_minor": 0,
              "version_major": 2
            },
            "text/plain": [
              "HBox(children=(IntProgress(value=0, description='val', max=22, style=ProgressStyle(description_width='initial'…"
            ]
          },
          "metadata": {
            "tags": []
          }
        },
        {
          "output_type": "stream",
          "text": [
            "\r[Epoch 1/100]              train loss: 1.8638,              val loss: 2.0403,              accuracy: 14.36 %\n"
          ],
          "name": "stdout"
        },
        {
          "output_type": "display_data",
          "data": {
            "application/vnd.jupyter.widget-view+json": {
              "model_id": "00f6a0dfb54a41fa8a8130544520d76b",
              "version_minor": 0,
              "version_major": 2
            },
            "text/plain": [
              "HBox(children=(IntProgress(value=0, description='[Epoch 2/100]', max=598, style=ProgressStyle(description_widt…"
            ]
          },
          "metadata": {
            "tags": []
          }
        },
        {
          "output_type": "stream",
          "text": [
            "\r"
          ],
          "name": "stdout"
        },
        {
          "output_type": "display_data",
          "data": {
            "application/vnd.jupyter.widget-view+json": {
              "model_id": "4114e67780a947e68b14284fab7cdd4e",
              "version_minor": 0,
              "version_major": 2
            },
            "text/plain": [
              "HBox(children=(IntProgress(value=0, description='val', max=22, style=ProgressStyle(description_width='initial'…"
            ]
          },
          "metadata": {
            "tags": []
          }
        },
        {
          "output_type": "stream",
          "text": [
            "\r[Epoch 2/100]              train loss: 1.8639,              val loss: 2.0399,              accuracy: 14.36 %\n"
          ],
          "name": "stdout"
        },
        {
          "output_type": "display_data",
          "data": {
            "application/vnd.jupyter.widget-view+json": {
              "model_id": "62034277f25d42e4a863a6d6b4212b09",
              "version_minor": 0,
              "version_major": 2
            },
            "text/plain": [
              "HBox(children=(IntProgress(value=0, description='[Epoch 3/100]', max=598, style=ProgressStyle(description_widt…"
            ]
          },
          "metadata": {
            "tags": []
          }
        },
        {
          "output_type": "stream",
          "text": [
            "\r"
          ],
          "name": "stdout"
        },
        {
          "output_type": "display_data",
          "data": {
            "application/vnd.jupyter.widget-view+json": {
              "model_id": "4e0134f1c68c47468c8b59021b06bfdd",
              "version_minor": 0,
              "version_major": 2
            },
            "text/plain": [
              "HBox(children=(IntProgress(value=0, description='val', max=22, style=ProgressStyle(description_width='initial'…"
            ]
          },
          "metadata": {
            "tags": []
          }
        },
        {
          "output_type": "stream",
          "text": [
            "\r[Epoch 3/100]              train loss: 1.8639,              val loss: 2.0395,              accuracy: 14.36 %\n"
          ],
          "name": "stdout"
        },
        {
          "output_type": "display_data",
          "data": {
            "application/vnd.jupyter.widget-view+json": {
              "model_id": "da236945c0f54c33b4664351c6de8938",
              "version_minor": 0,
              "version_major": 2
            },
            "text/plain": [
              "HBox(children=(IntProgress(value=0, description='[Epoch 4/100]', max=598, style=ProgressStyle(description_widt…"
            ]
          },
          "metadata": {
            "tags": []
          }
        },
        {
          "output_type": "stream",
          "text": [
            "\r"
          ],
          "name": "stdout"
        },
        {
          "output_type": "display_data",
          "data": {
            "application/vnd.jupyter.widget-view+json": {
              "model_id": "606801b456af405882982b1422799dab",
              "version_minor": 0,
              "version_major": 2
            },
            "text/plain": [
              "HBox(children=(IntProgress(value=0, description='val', max=22, style=ProgressStyle(description_width='initial'…"
            ]
          },
          "metadata": {
            "tags": []
          }
        },
        {
          "output_type": "stream",
          "text": [
            "\r[Epoch 4/100]              train loss: 1.8638,              val loss: 2.0387,              accuracy: 14.36 %\n"
          ],
          "name": "stdout"
        },
        {
          "output_type": "display_data",
          "data": {
            "application/vnd.jupyter.widget-view+json": {
              "model_id": "e075e6de08fb4aa28fc578b4dad57c11",
              "version_minor": 0,
              "version_major": 2
            },
            "text/plain": [
              "HBox(children=(IntProgress(value=0, description='[Epoch 5/100]', max=598, style=ProgressStyle(description_widt…"
            ]
          },
          "metadata": {
            "tags": []
          }
        },
        {
          "output_type": "stream",
          "text": [
            "\r"
          ],
          "name": "stdout"
        },
        {
          "output_type": "display_data",
          "data": {
            "application/vnd.jupyter.widget-view+json": {
              "model_id": "1565c47ce76342bcb504d5f6c1ffbd09",
              "version_minor": 0,
              "version_major": 2
            },
            "text/plain": [
              "HBox(children=(IntProgress(value=0, description='val', max=22, style=ProgressStyle(description_width='initial'…"
            ]
          },
          "metadata": {
            "tags": []
          }
        },
        {
          "output_type": "stream",
          "text": [
            "\rstopping early\n"
          ],
          "name": "stdout"
        }
      ]
    },
    {
      "cell_type": "code",
      "metadata": {
        "id": "M28NIdwVgBdq",
        "colab_type": "code",
        "colab": {}
      },
      "source": [
        "# plot losses and accuracies"
      ],
      "execution_count": 0,
      "outputs": []
    },
    {
      "cell_type": "code",
      "metadata": {
        "id": "Lz-gBU-LWVhe",
        "colab_type": "code",
        "colab": {
          "base_uri": "https://localhost:8080/",
          "height": 292
        },
        "outputId": "f0dc1771-bfbf-444a-d945-3ad6f55e1818"
      },
      "source": [
        "%matplotlib inline\n",
        "# plt.plot(train_losses, label='train')\n",
        "plt.plot(range(1, len(val_losses) + 1), val_losses, label='val', c='r')\n",
        "plt.legend()\n",
        "plt.xlabel('epochs', fontsize=20)\n",
        "plt.ylabel('loss', fontsize=20)\n",
        "plt.xticks(range(1, len(val_losses) + 1), fontsize=14)\n",
        "plt.yticks(fontsize=14)\n",
        "plt.show()"
      ],
      "execution_count": 54,
      "outputs": [
        {
          "output_type": "display_data",
          "data": {
            "image/png": "[encoded data removed]",
            "text/plain": [
              "<Figure size 432x288 with 1 Axes>"
            ]
          },
          "metadata": {
            "tags": []
          }
        }
      ]
    },
    {
      "cell_type": "code",
      "metadata": {
        "id": "MhGYYZKDMzm8",
        "colab_type": "code",
        "colab": {}
      },
      "source": [
        ""
      ],
      "execution_count": 0,
      "outputs": []
    }
  ]
}