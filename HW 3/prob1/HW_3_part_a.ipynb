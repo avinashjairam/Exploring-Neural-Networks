{
  "nbformat": 4,
  "nbformat_minor": 0,
  "metadata": {
    "colab": {
      "name": "HW 3- part a.ipynb",
      "provenance": []
    },
    "kernelspec": {
      "name": "python3",
      "display_name": "Python 3"
    }
  },
  "cells": [
    {
      "cell_type": "code",
      "metadata": {
        "id": "D-99ZChgXWDk",
        "colab_type": "code",
        "colab": {}
      },
      "source": [
        "import os\n",
        "import sys, shutil\n",
        "import os.path\n"
      ],
      "execution_count": 0,
      "outputs": []
    },
    {
      "cell_type": "code",
      "metadata": {
        "id": "Ng2ICqbsXZ9i",
        "colab_type": "code",
        "outputId": "5b1af8e6-a31d-40d6-d939-9834d929c1b1",
        "colab": {
          "base_uri": "https://localhost:8080/",
          "height": 56
        }
      },
      "source": [
        "# mount google drive\n",
        "from google.colab import drive\n",
        "drive.mount('/content/gdrive')"
      ],
      "execution_count": 142,
      "outputs": [
        {
          "output_type": "stream",
          "text": [
            "Drive already mounted at /content/gdrive; to attempt to forcibly remount, call drive.mount(\"/content/gdrive\", force_remount=True).\n"
          ],
          "name": "stdout"
        }
      ]
    },
    {
      "cell_type": "code",
      "metadata": {
        "id": "ltuqLTc0XorF",
        "colab_type": "code",
        "outputId": "e9093dcc-de28-4477-fe8b-897c82ace13e",
        "colab": {
          "base_uri": "https://localhost:8080/",
          "height": 36
        }
      },
      "source": [
        "original_dataset_dir = os.path.join(\"gdrive/My Drive/Colab Notebooks/dogs-vs-cats/train/train/\")\n",
        "\n",
        "\n",
        "# data directory (extracted path)\n",
        "data_dir = os.path.join(\"gdrive/My Drive/Colab Notebooks/dogs-vs-cats/train/train/\" )\n",
        "# print folders in data directory\n",
        "print(os.listdir(data_dir))"
      ],
      "execution_count": 143,
      "outputs": [
        {
          "output_type": "stream",
          "text": [
            "[]\n"
          ],
          "name": "stdout"
        }
      ]
    },
    {
      "cell_type": "code",
      "metadata": {
        "id": "CwjI7077rsRh",
        "colab_type": "code",
        "colab": {
          "base_uri": "https://localhost:8080/",
          "height": 195
        },
        "outputId": "54a01d17-dea7-4091-bd3d-aa401449c410"
      },
      "source": [
        "base_dir = \"gdrive/My Drive/Colab Notebooks/cats_and_dogs_small\"\n",
        "os.mkdir(base_dir)"
      ],
      "execution_count": 145,
      "outputs": [
        {
          "output_type": "error",
          "ename": "FileExistsError",
          "evalue": "ignored",
          "traceback": [
            "\u001b[0;31m---------------------------------------------------------------------------\u001b[0m",
            "\u001b[0;31mFileExistsError\u001b[0m                           Traceback (most recent call last)",
            "\u001b[0;32m<ipython-input-145-18967afddfeb>\u001b[0m in \u001b[0;36m<module>\u001b[0;34m()\u001b[0m\n\u001b[1;32m      1\u001b[0m \u001b[0mbase_dir\u001b[0m \u001b[0;34m=\u001b[0m \u001b[0;34m\"gdrive/My Drive/Colab Notebooks/cats_and_dogs_small\"\u001b[0m\u001b[0;34m\u001b[0m\u001b[0;34m\u001b[0m\u001b[0m\n\u001b[0;32m----> 2\u001b[0;31m \u001b[0mos\u001b[0m\u001b[0;34m.\u001b[0m\u001b[0mmkdir\u001b[0m\u001b[0;34m(\u001b[0m\u001b[0mbase_dir\u001b[0m\u001b[0;34m)\u001b[0m\u001b[0;34m\u001b[0m\u001b[0;34m\u001b[0m\u001b[0m\n\u001b[0m",
            "\u001b[0;31mFileExistsError\u001b[0m: [Errno 17] File exists: 'gdrive/My Drive/Colab Notebooks/cats_and_dogs_small'"
          ]
        }
      ]
    },
    {
      "cell_type": "code",
      "metadata": {
        "id": "i56X-uHrr85A",
        "colab_type": "code",
        "colab": {
          "base_uri": "https://localhost:8080/",
          "height": 252
        },
        "outputId": "cf3d27f2-0d4b-4b74-9114-5ed7cb3197ff"
      },
      "source": [
        "#Creating directories for the training, validation, and test splits\n",
        "train_dir = os.path.join(base_dir, 'train')\n",
        "os.mkdir(train_dir)\n",
        "validation_dir = os.path.join(base_dir, 'validation')\n",
        "os.mkdir(validation_dir)\n",
        "test_dir = os.path.join(base_dir, 'test')\n",
        "os.mkdir(test_dir)"
      ],
      "execution_count": 146,
      "outputs": [
        {
          "output_type": "error",
          "ename": "FileExistsError",
          "evalue": "ignored",
          "traceback": [
            "\u001b[0;31m---------------------------------------------------------------------------\u001b[0m",
            "\u001b[0;31mFileExistsError\u001b[0m                           Traceback (most recent call last)",
            "\u001b[0;32m<ipython-input-146-8f1810c65b0b>\u001b[0m in \u001b[0;36m<module>\u001b[0;34m()\u001b[0m\n\u001b[1;32m      1\u001b[0m \u001b[0mtrain_dir\u001b[0m \u001b[0;34m=\u001b[0m \u001b[0mos\u001b[0m\u001b[0;34m.\u001b[0m\u001b[0mpath\u001b[0m\u001b[0;34m.\u001b[0m\u001b[0mjoin\u001b[0m\u001b[0;34m(\u001b[0m\u001b[0mbase_dir\u001b[0m\u001b[0;34m,\u001b[0m \u001b[0;34m'train'\u001b[0m\u001b[0;34m)\u001b[0m\u001b[0;34m\u001b[0m\u001b[0;34m\u001b[0m\u001b[0m\n\u001b[0;32m----> 2\u001b[0;31m \u001b[0mos\u001b[0m\u001b[0;34m.\u001b[0m\u001b[0mmkdir\u001b[0m\u001b[0;34m(\u001b[0m\u001b[0mtrain_dir\u001b[0m\u001b[0;34m)\u001b[0m\u001b[0;34m\u001b[0m\u001b[0;34m\u001b[0m\u001b[0m\n\u001b[0m\u001b[1;32m      3\u001b[0m \u001b[0mvalidation_dir\u001b[0m \u001b[0;34m=\u001b[0m \u001b[0mos\u001b[0m\u001b[0;34m.\u001b[0m\u001b[0mpath\u001b[0m\u001b[0;34m.\u001b[0m\u001b[0mjoin\u001b[0m\u001b[0;34m(\u001b[0m\u001b[0mbase_dir\u001b[0m\u001b[0;34m,\u001b[0m \u001b[0;34m'validation'\u001b[0m\u001b[0;34m)\u001b[0m\u001b[0;34m\u001b[0m\u001b[0;34m\u001b[0m\u001b[0m\n\u001b[1;32m      4\u001b[0m \u001b[0mos\u001b[0m\u001b[0;34m.\u001b[0m\u001b[0mmkdir\u001b[0m\u001b[0;34m(\u001b[0m\u001b[0mvalidation_dir\u001b[0m\u001b[0;34m)\u001b[0m\u001b[0;34m\u001b[0m\u001b[0;34m\u001b[0m\u001b[0m\n\u001b[1;32m      5\u001b[0m \u001b[0mtest_dir\u001b[0m \u001b[0;34m=\u001b[0m \u001b[0mos\u001b[0m\u001b[0;34m.\u001b[0m\u001b[0mpath\u001b[0m\u001b[0;34m.\u001b[0m\u001b[0mjoin\u001b[0m\u001b[0;34m(\u001b[0m\u001b[0mbase_dir\u001b[0m\u001b[0;34m,\u001b[0m \u001b[0;34m'test'\u001b[0m\u001b[0;34m)\u001b[0m\u001b[0;34m\u001b[0m\u001b[0;34m\u001b[0m\u001b[0m\n",
            "\u001b[0;31mFileExistsError\u001b[0m: [Errno 17] File exists: 'gdrive/My Drive/Colab Notebooks/cats_and_dogs_small/train'"
          ]
        }
      ]
    },
    {
      "cell_type": "code",
      "metadata": {
        "id": "iKIjPaW3shkw",
        "colab_type": "code",
        "colab": {
          "base_uri": "https://localhost:8080/",
          "height": 215
        },
        "outputId": "a8294915-57a1-4a4a-c62a-e839c757feb1"
      },
      "source": [
        "#Directory with training cat pictures\n",
        "train_cats_dir = os.path.join(train_dir, 'cats')\n",
        "os.mkdir(train_cats_dir)"
      ],
      "execution_count": 147,
      "outputs": [
        {
          "output_type": "error",
          "ename": "FileExistsError",
          "evalue": "ignored",
          "traceback": [
            "\u001b[0;31m---------------------------------------------------------------------------\u001b[0m",
            "\u001b[0;31mFileExistsError\u001b[0m                           Traceback (most recent call last)",
            "\u001b[0;32m<ipython-input-147-9a8f6a2ca135>\u001b[0m in \u001b[0;36m<module>\u001b[0;34m()\u001b[0m\n\u001b[1;32m      1\u001b[0m \u001b[0mtrain_cats_dir\u001b[0m \u001b[0;34m=\u001b[0m \u001b[0mos\u001b[0m\u001b[0;34m.\u001b[0m\u001b[0mpath\u001b[0m\u001b[0;34m.\u001b[0m\u001b[0mjoin\u001b[0m\u001b[0;34m(\u001b[0m\u001b[0mtrain_dir\u001b[0m\u001b[0;34m,\u001b[0m \u001b[0;34m'cats'\u001b[0m\u001b[0;34m)\u001b[0m\u001b[0;34m\u001b[0m\u001b[0;34m\u001b[0m\u001b[0m\n\u001b[0;32m----> 2\u001b[0;31m \u001b[0mos\u001b[0m\u001b[0;34m.\u001b[0m\u001b[0mmkdir\u001b[0m\u001b[0;34m(\u001b[0m\u001b[0mtrain_cats_dir\u001b[0m\u001b[0;34m)\u001b[0m\u001b[0;34m\u001b[0m\u001b[0;34m\u001b[0m\u001b[0m\n\u001b[0m",
            "\u001b[0;31mFileExistsError\u001b[0m: [Errno 17] File exists: 'gdrive/My Drive/Colab Notebooks/cats_and_dogs_small/train/cats'"
          ]
        }
      ]
    },
    {
      "cell_type": "code",
      "metadata": {
        "id": "PoiHzEHfsoMB",
        "colab_type": "code",
        "colab": {
          "base_uri": "https://localhost:8080/",
          "height": 215
        },
        "outputId": "977ecb4a-6e53-4e82-c27b-b50a62ac60c4"
      },
      "source": [
        "#Directory with training dog pictures\n",
        "train_dogs_dir = os.path.join(train_dir, 'dogs')\n",
        "os.mkdir(train_dogs_dir)"
      ],
      "execution_count": 148,
      "outputs": [
        {
          "output_type": "error",
          "ename": "FileExistsError",
          "evalue": "ignored",
          "traceback": [
            "\u001b[0;31m---------------------------------------------------------------------------\u001b[0m",
            "\u001b[0;31mFileExistsError\u001b[0m                           Traceback (most recent call last)",
            "\u001b[0;32m<ipython-input-148-44289171c898>\u001b[0m in \u001b[0;36m<module>\u001b[0;34m()\u001b[0m\n\u001b[1;32m      1\u001b[0m \u001b[0mtrain_dogs_dir\u001b[0m \u001b[0;34m=\u001b[0m \u001b[0mos\u001b[0m\u001b[0;34m.\u001b[0m\u001b[0mpath\u001b[0m\u001b[0;34m.\u001b[0m\u001b[0mjoin\u001b[0m\u001b[0;34m(\u001b[0m\u001b[0mtrain_dir\u001b[0m\u001b[0;34m,\u001b[0m \u001b[0;34m'dogs'\u001b[0m\u001b[0;34m)\u001b[0m\u001b[0;34m\u001b[0m\u001b[0;34m\u001b[0m\u001b[0m\n\u001b[0;32m----> 2\u001b[0;31m \u001b[0mos\u001b[0m\u001b[0;34m.\u001b[0m\u001b[0mmkdir\u001b[0m\u001b[0;34m(\u001b[0m\u001b[0mtrain_dogs_dir\u001b[0m\u001b[0;34m)\u001b[0m\u001b[0;34m\u001b[0m\u001b[0;34m\u001b[0m\u001b[0m\n\u001b[0m",
            "\u001b[0;31mFileExistsError\u001b[0m: [Errno 17] File exists: 'gdrive/My Drive/Colab Notebooks/cats_and_dogs_small/train/dogs'"
          ]
        }
      ]
    },
    {
      "cell_type": "code",
      "metadata": {
        "id": "CBdP6DWjsra_",
        "colab_type": "code",
        "colab": {
          "base_uri": "https://localhost:8080/",
          "height": 215
        },
        "outputId": "6e35ec0b-56f0-47f2-d7c0-6732a0a19fd8"
      },
      "source": [
        "#Directory with validation cat pictures\n",
        "validation_cats_dir = os.path.join(validation_dir, 'cats')\n",
        "os.mkdir(validation_cats_dir)"
      ],
      "execution_count": 149,
      "outputs": [
        {
          "output_type": "error",
          "ename": "FileExistsError",
          "evalue": "ignored",
          "traceback": [
            "\u001b[0;31m---------------------------------------------------------------------------\u001b[0m",
            "\u001b[0;31mFileExistsError\u001b[0m                           Traceback (most recent call last)",
            "\u001b[0;32m<ipython-input-149-83dd2454776c>\u001b[0m in \u001b[0;36m<module>\u001b[0;34m()\u001b[0m\n\u001b[1;32m      1\u001b[0m \u001b[0mvalidation_cats_dir\u001b[0m \u001b[0;34m=\u001b[0m \u001b[0mos\u001b[0m\u001b[0;34m.\u001b[0m\u001b[0mpath\u001b[0m\u001b[0;34m.\u001b[0m\u001b[0mjoin\u001b[0m\u001b[0;34m(\u001b[0m\u001b[0mvalidation_dir\u001b[0m\u001b[0;34m,\u001b[0m \u001b[0;34m'cats'\u001b[0m\u001b[0;34m)\u001b[0m\u001b[0;34m\u001b[0m\u001b[0;34m\u001b[0m\u001b[0m\n\u001b[0;32m----> 2\u001b[0;31m \u001b[0mos\u001b[0m\u001b[0;34m.\u001b[0m\u001b[0mmkdir\u001b[0m\u001b[0;34m(\u001b[0m\u001b[0mvalidation_cats_dir\u001b[0m\u001b[0;34m)\u001b[0m\u001b[0;34m\u001b[0m\u001b[0;34m\u001b[0m\u001b[0m\n\u001b[0m",
            "\u001b[0;31mFileExistsError\u001b[0m: [Errno 17] File exists: 'gdrive/My Drive/Colab Notebooks/cats_and_dogs_small/validation/cats'"
          ]
        }
      ]
    },
    {
      "cell_type": "code",
      "metadata": {
        "id": "r9RYcu96s0Mi",
        "colab_type": "code",
        "colab": {
          "base_uri": "https://localhost:8080/",
          "height": 215
        },
        "outputId": "8bda29c6-98b5-4542-9b01-a711cac607e6"
      },
      "source": [
        "#Directory with validation dog pictures\n",
        "validation_dogs_dir = os.path.join(validation_dir, 'dogs')\n",
        "os.mkdir(validation_dogs_dir)"
      ],
      "execution_count": 150,
      "outputs": [
        {
          "output_type": "error",
          "ename": "FileExistsError",
          "evalue": "ignored",
          "traceback": [
            "\u001b[0;31m---------------------------------------------------------------------------\u001b[0m",
            "\u001b[0;31mFileExistsError\u001b[0m                           Traceback (most recent call last)",
            "\u001b[0;32m<ipython-input-150-4fb5b41ed7c3>\u001b[0m in \u001b[0;36m<module>\u001b[0;34m()\u001b[0m\n\u001b[1;32m      1\u001b[0m \u001b[0mvalidation_dogs_dir\u001b[0m \u001b[0;34m=\u001b[0m \u001b[0mos\u001b[0m\u001b[0;34m.\u001b[0m\u001b[0mpath\u001b[0m\u001b[0;34m.\u001b[0m\u001b[0mjoin\u001b[0m\u001b[0;34m(\u001b[0m\u001b[0mvalidation_dir\u001b[0m\u001b[0;34m,\u001b[0m \u001b[0;34m'dogs'\u001b[0m\u001b[0;34m)\u001b[0m\u001b[0;34m\u001b[0m\u001b[0;34m\u001b[0m\u001b[0m\n\u001b[0;32m----> 2\u001b[0;31m \u001b[0mos\u001b[0m\u001b[0;34m.\u001b[0m\u001b[0mmkdir\u001b[0m\u001b[0;34m(\u001b[0m\u001b[0mvalidation_dogs_dir\u001b[0m\u001b[0;34m)\u001b[0m\u001b[0;34m\u001b[0m\u001b[0;34m\u001b[0m\u001b[0m\n\u001b[0m",
            "\u001b[0;31mFileExistsError\u001b[0m: [Errno 17] File exists: 'gdrive/My Drive/Colab Notebooks/cats_and_dogs_small/validation/dogs'"
          ]
        }
      ]
    },
    {
      "cell_type": "code",
      "metadata": {
        "id": "5qAouLhDs41C",
        "colab_type": "code",
        "colab": {
          "base_uri": "https://localhost:8080/",
          "height": 215
        },
        "outputId": "a81931bc-798d-49c1-80c3-a15b362e304b"
      },
      "source": [
        "#Directory with test cat pictures\n",
        "test_cats_dir = os.path.join(test_dir, 'cats')\n",
        "os.mkdir(test_cats_dir)"
      ],
      "execution_count": 151,
      "outputs": [
        {
          "output_type": "error",
          "ename": "FileExistsError",
          "evalue": "ignored",
          "traceback": [
            "\u001b[0;31m---------------------------------------------------------------------------\u001b[0m",
            "\u001b[0;31mFileExistsError\u001b[0m                           Traceback (most recent call last)",
            "\u001b[0;32m<ipython-input-151-7ccc870cf008>\u001b[0m in \u001b[0;36m<module>\u001b[0;34m()\u001b[0m\n\u001b[1;32m      1\u001b[0m \u001b[0mtest_cats_dir\u001b[0m \u001b[0;34m=\u001b[0m \u001b[0mos\u001b[0m\u001b[0;34m.\u001b[0m\u001b[0mpath\u001b[0m\u001b[0;34m.\u001b[0m\u001b[0mjoin\u001b[0m\u001b[0;34m(\u001b[0m\u001b[0mtest_dir\u001b[0m\u001b[0;34m,\u001b[0m \u001b[0;34m'cats'\u001b[0m\u001b[0;34m)\u001b[0m\u001b[0;34m\u001b[0m\u001b[0;34m\u001b[0m\u001b[0m\n\u001b[0;32m----> 2\u001b[0;31m \u001b[0mos\u001b[0m\u001b[0;34m.\u001b[0m\u001b[0mmkdir\u001b[0m\u001b[0;34m(\u001b[0m\u001b[0mtest_cats_dir\u001b[0m\u001b[0;34m)\u001b[0m\u001b[0;34m\u001b[0m\u001b[0;34m\u001b[0m\u001b[0m\n\u001b[0m",
            "\u001b[0;31mFileExistsError\u001b[0m: [Errno 17] File exists: 'gdrive/My Drive/Colab Notebooks/cats_and_dogs_small/test/cats'"
          ]
        }
      ]
    },
    {
      "cell_type": "code",
      "metadata": {
        "id": "avmeGFKj-uBK",
        "colab_type": "code",
        "colab": {
          "base_uri": "https://localhost:8080/",
          "height": 215
        },
        "outputId": "60936694-766b-44a8-da18-b4c327a42ac7"
      },
      "source": [
        "#directory with test dog pictures\n",
        "test_dogs_dir = os.path.join(test_dir, 'dogs')\n",
        "os.mkdir(test_dogs_dir)"
      ],
      "execution_count": 152,
      "outputs": [
        {
          "output_type": "error",
          "ename": "FileExistsError",
          "evalue": "ignored",
          "traceback": [
            "\u001b[0;31m---------------------------------------------------------------------------\u001b[0m",
            "\u001b[0;31mFileExistsError\u001b[0m                           Traceback (most recent call last)",
            "\u001b[0;32m<ipython-input-152-ce13ec6b01c7>\u001b[0m in \u001b[0;36m<module>\u001b[0;34m()\u001b[0m\n\u001b[1;32m      1\u001b[0m \u001b[0mtest_dogs_dir\u001b[0m \u001b[0;34m=\u001b[0m \u001b[0mos\u001b[0m\u001b[0;34m.\u001b[0m\u001b[0mpath\u001b[0m\u001b[0;34m.\u001b[0m\u001b[0mjoin\u001b[0m\u001b[0;34m(\u001b[0m\u001b[0mtest_dir\u001b[0m\u001b[0;34m,\u001b[0m \u001b[0;34m'dogs'\u001b[0m\u001b[0;34m)\u001b[0m\u001b[0;34m\u001b[0m\u001b[0;34m\u001b[0m\u001b[0m\n\u001b[0;32m----> 2\u001b[0;31m \u001b[0mos\u001b[0m\u001b[0;34m.\u001b[0m\u001b[0mmkdir\u001b[0m\u001b[0;34m(\u001b[0m\u001b[0mtest_dogs_dir\u001b[0m\u001b[0;34m)\u001b[0m\u001b[0;34m\u001b[0m\u001b[0;34m\u001b[0m\u001b[0m\n\u001b[0m",
            "\u001b[0;31mFileExistsError\u001b[0m: [Errno 17] File exists: 'gdrive/My Drive/Colab Notebooks/cats_and_dogs_small/test/dogs'"
          ]
        }
      ]
    },
    {
      "cell_type": "code",
      "metadata": {
        "id": "fU8hqiE5-6RI",
        "colab_type": "code",
        "colab": {}
      },
      "source": [
        "#copies the first 1000 cat images to train_cats_dir\n",
        "fnames = ['cat.{}.jpg'.format(i) for i in range(1,1000)]\n",
        "for fname in fnames:\n",
        "  src = os.path.join(original_dataset_dir, fname)\n",
        "  dst = os.path.join(train_cats_dir, fname)\n",
        "  if(os.path.exists(src)):\n",
        "    print(src)\n",
        "    shutil.copyfile(src, dst)"
      ],
      "execution_count": 0,
      "outputs": []
    },
    {
      "cell_type": "code",
      "metadata": {
        "id": "y5dYOrw-Edzx",
        "colab_type": "code",
        "colab": {}
      },
      "source": [
        "#Copies the next 500 cat images to validation_cats_dir\n",
        "fnames = ['cat.{}.jpg'.format(i) for i in range(1000, 1500)]\n",
        "for fname in fnames:\n",
        "  src = os.path.join(original_dataset_dir, fname)\n",
        "  dst = os.path.join(validation_cats_dir, fname)\n",
        "  if(os.path.exists(src)):\n",
        "    print(src)\n",
        "    shutil.copyfile(src, dst)"
      ],
      "execution_count": 0,
      "outputs": []
    },
    {
      "cell_type": "code",
      "metadata": {
        "id": "Tv4MobJSFDL2",
        "colab_type": "code",
        "colab": {}
      },
      "source": [
        "#Copies the next 500 cat images to test_cats_dir\n",
        "fnames = ['cat.{}.jpg'.format(i) for i in range(1500, 2000)]\n",
        "for fname in fnames:\n",
        "  src = os.path.join(original_dataset_dir, fname)\n",
        "  dst = os.path.join(test_cats_dir, fname)\n",
        "  if(os.path.exists(src)):\n",
        "    print(src)\n",
        "    shutil.copyfile(src, dst)"
      ],
      "execution_count": 0,
      "outputs": []
    },
    {
      "cell_type": "code",
      "metadata": {
        "id": "uiBaKQKGFR34",
        "colab_type": "code",
        "colab": {}
      },
      "source": [
        "#Copies the first 1,000 dog images to train_dogs_dir\n",
        "fnames = ['dog.{}.jpg'.format(i) for i in range(1000)]\n",
        "for fname in fnames:\n",
        "  src = os.path.join(original_dataset_dir, fname)\n",
        "  dst = os.path.join(train_dogs_dir, fname)\n",
        "  if(os.path.exists(src)):\n",
        "    print(src)\n",
        "    shutil.copyfile(src, dst)"
      ],
      "execution_count": 0,
      "outputs": []
    },
    {
      "cell_type": "code",
      "metadata": {
        "id": "uHDe2Jy6Fh5H",
        "colab_type": "code",
        "colab": {}
      },
      "source": [
        "#Copies the next 500 dog images to validation_dogs_dir\n",
        "fnames = ['dog.{}.jpg'.format(i) for i in range(1000,1500)]\n",
        "for fname in fnames:\n",
        "  src = os.path.join(original_dataset_dir, fname)\n",
        "  dst = os.path.join(validation_dogs_dir, fname)\n",
        "  if(os.path.exists(src)):\n",
        "    print(src)\n",
        "    shutil.copyfile(src, dst)\n"
      ],
      "execution_count": 0,
      "outputs": []
    },
    {
      "cell_type": "code",
      "metadata": {
        "id": "6ADFU7IYF2FG",
        "colab_type": "code",
        "outputId": "6a279a47-e868-4556-de78-47d504562917",
        "colab": {
          "base_uri": "https://localhost:8080/",
          "height": 56
        }
      },
      "source": [
        "#Copies the next 500 dog images to test_dogs_dir\n",
        "fnames = ['dog.{}.jpg'.format(i) for i in range(1500,2000)]\n",
        "print(fnames)\n",
        "for fname in fnames:\n",
        "  src = os.path.join(original_dataset_dir, fname)\n",
        "  dst = os.path.join(test_dogs_dir, fname)\n",
        "  if(os.path.exists(src)):\n",
        "    print(src)\n",
        "    shutil.copyfile(src, dst)\n"
      ],
      "execution_count": 158,
      "outputs": [
        {
          "output_type": "stream",
          "text": [
            "['dog.1500.jpg', 'dog.1501.jpg', 'dog.1502.jpg', 'dog.1503.jpg', 'dog.1504.jpg', 'dog.1505.jpg', 'dog.1506.jpg', 'dog.1507.jpg', 'dog.1508.jpg', 'dog.1509.jpg', 'dog.1510.jpg', 'dog.1511.jpg', 'dog.1512.jpg', 'dog.1513.jpg', 'dog.1514.jpg', 'dog.1515.jpg', 'dog.1516.jpg', 'dog.1517.jpg', 'dog.1518.jpg', 'dog.1519.jpg', 'dog.1520.jpg', 'dog.1521.jpg', 'dog.1522.jpg', 'dog.1523.jpg', 'dog.1524.jpg', 'dog.1525.jpg', 'dog.1526.jpg', 'dog.1527.jpg', 'dog.1528.jpg', 'dog.1529.jpg', 'dog.1530.jpg', 'dog.1531.jpg', 'dog.1532.jpg', 'dog.1533.jpg', 'dog.1534.jpg', 'dog.1535.jpg', 'dog.1536.jpg', 'dog.1537.jpg', 'dog.1538.jpg', 'dog.1539.jpg', 'dog.1540.jpg', 'dog.1541.jpg', 'dog.1542.jpg', 'dog.1543.jpg', 'dog.1544.jpg', 'dog.1545.jpg', 'dog.1546.jpg', 'dog.1547.jpg', 'dog.1548.jpg', 'dog.1549.jpg', 'dog.1550.jpg', 'dog.1551.jpg', 'dog.1552.jpg', 'dog.1553.jpg', 'dog.1554.jpg', 'dog.1555.jpg', 'dog.1556.jpg', 'dog.1557.jpg', 'dog.1558.jpg', 'dog.1559.jpg', 'dog.1560.jpg', 'dog.1561.jpg', 'dog.1562.jpg', 'dog.1563.jpg', 'dog.1564.jpg', 'dog.1565.jpg', 'dog.1566.jpg', 'dog.1567.jpg', 'dog.1568.jpg', 'dog.1569.jpg', 'dog.1570.jpg', 'dog.1571.jpg', 'dog.1572.jpg', 'dog.1573.jpg', 'dog.1574.jpg', 'dog.1575.jpg', 'dog.1576.jpg', 'dog.1577.jpg', 'dog.1578.jpg', 'dog.1579.jpg', 'dog.1580.jpg', 'dog.1581.jpg', 'dog.1582.jpg', 'dog.1583.jpg', 'dog.1584.jpg', 'dog.1585.jpg', 'dog.1586.jpg', 'dog.1587.jpg', 'dog.1588.jpg', 'dog.1589.jpg', 'dog.1590.jpg', 'dog.1591.jpg', 'dog.1592.jpg', 'dog.1593.jpg', 'dog.1594.jpg', 'dog.1595.jpg', 'dog.1596.jpg', 'dog.1597.jpg', 'dog.1598.jpg', 'dog.1599.jpg', 'dog.1600.jpg', 'dog.1601.jpg', 'dog.1602.jpg', 'dog.1603.jpg', 'dog.1604.jpg', 'dog.1605.jpg', 'dog.1606.jpg', 'dog.1607.jpg', 'dog.1608.jpg', 'dog.1609.jpg', 'dog.1610.jpg', 'dog.1611.jpg', 'dog.1612.jpg', 'dog.1613.jpg', 'dog.1614.jpg', 'dog.1615.jpg', 'dog.1616.jpg', 'dog.1617.jpg', 'dog.1618.jpg', 'dog.1619.jpg', 'dog.1620.jpg', 'dog.1621.jpg', 'dog.1622.jpg', 'dog.1623.jpg', 'dog.1624.jpg', 'dog.1625.jpg', 'dog.1626.jpg', 'dog.1627.jpg', 'dog.1628.jpg', 'dog.1629.jpg', 'dog.1630.jpg', 'dog.1631.jpg', 'dog.1632.jpg', 'dog.1633.jpg', 'dog.1634.jpg', 'dog.1635.jpg', 'dog.1636.jpg', 'dog.1637.jpg', 'dog.1638.jpg', 'dog.1639.jpg', 'dog.1640.jpg', 'dog.1641.jpg', 'dog.1642.jpg', 'dog.1643.jpg', 'dog.1644.jpg', 'dog.1645.jpg', 'dog.1646.jpg', 'dog.1647.jpg', 'dog.1648.jpg', 'dog.1649.jpg', 'dog.1650.jpg', 'dog.1651.jpg', 'dog.1652.jpg', 'dog.1653.jpg', 'dog.1654.jpg', 'dog.1655.jpg', 'dog.1656.jpg', 'dog.1657.jpg', 'dog.1658.jpg', 'dog.1659.jpg', 'dog.1660.jpg', 'dog.1661.jpg', 'dog.1662.jpg', 'dog.1663.jpg', 'dog.1664.jpg', 'dog.1665.jpg', 'dog.1666.jpg', 'dog.1667.jpg', 'dog.1668.jpg', 'dog.1669.jpg', 'dog.1670.jpg', 'dog.1671.jpg', 'dog.1672.jpg', 'dog.1673.jpg', 'dog.1674.jpg', 'dog.1675.jpg', 'dog.1676.jpg', 'dog.1677.jpg', 'dog.1678.jpg', 'dog.1679.jpg', 'dog.1680.jpg', 'dog.1681.jpg', 'dog.1682.jpg', 'dog.1683.jpg', 'dog.1684.jpg', 'dog.1685.jpg', 'dog.1686.jpg', 'dog.1687.jpg', 'dog.1688.jpg', 'dog.1689.jpg', 'dog.1690.jpg', 'dog.1691.jpg', 'dog.1692.jpg', 'dog.1693.jpg', 'dog.1694.jpg', 'dog.1695.jpg', 'dog.1696.jpg', 'dog.1697.jpg', 'dog.1698.jpg', 'dog.1699.jpg', 'dog.1700.jpg', 'dog.1701.jpg', 'dog.1702.jpg', 'dog.1703.jpg', 'dog.1704.jpg', 'dog.1705.jpg', 'dog.1706.jpg', 'dog.1707.jpg', 'dog.1708.jpg', 'dog.1709.jpg', 'dog.1710.jpg', 'dog.1711.jpg', 'dog.1712.jpg', 'dog.1713.jpg', 'dog.1714.jpg', 'dog.1715.jpg', 'dog.1716.jpg', 'dog.1717.jpg', 'dog.1718.jpg', 'dog.1719.jpg', 'dog.1720.jpg', 'dog.1721.jpg', 'dog.1722.jpg', 'dog.1723.jpg', 'dog.1724.jpg', 'dog.1725.jpg', 'dog.1726.jpg', 'dog.1727.jpg', 'dog.1728.jpg', 'dog.1729.jpg', 'dog.1730.jpg', 'dog.1731.jpg', 'dog.1732.jpg', 'dog.1733.jpg', 'dog.1734.jpg', 'dog.1735.jpg', 'dog.1736.jpg', 'dog.1737.jpg', 'dog.1738.jpg', 'dog.1739.jpg', 'dog.1740.jpg', 'dog.1741.jpg', 'dog.1742.jpg', 'dog.1743.jpg', 'dog.1744.jpg', 'dog.1745.jpg', 'dog.1746.jpg', 'dog.1747.jpg', 'dog.1748.jpg', 'dog.1749.jpg', 'dog.1750.jpg', 'dog.1751.jpg', 'dog.1752.jpg', 'dog.1753.jpg', 'dog.1754.jpg', 'dog.1755.jpg', 'dog.1756.jpg', 'dog.1757.jpg', 'dog.1758.jpg', 'dog.1759.jpg', 'dog.1760.jpg', 'dog.1761.jpg', 'dog.1762.jpg', 'dog.1763.jpg', 'dog.1764.jpg', 'dog.1765.jpg', 'dog.1766.jpg', 'dog.1767.jpg', 'dog.1768.jpg', 'dog.1769.jpg', 'dog.1770.jpg', 'dog.1771.jpg', 'dog.1772.jpg', 'dog.1773.jpg', 'dog.1774.jpg', 'dog.1775.jpg', 'dog.1776.jpg', 'dog.1777.jpg', 'dog.1778.jpg', 'dog.1779.jpg', 'dog.1780.jpg', 'dog.1781.jpg', 'dog.1782.jpg', 'dog.1783.jpg', 'dog.1784.jpg', 'dog.1785.jpg', 'dog.1786.jpg', 'dog.1787.jpg', 'dog.1788.jpg', 'dog.1789.jpg', 'dog.1790.jpg', 'dog.1791.jpg', 'dog.1792.jpg', 'dog.1793.jpg', 'dog.1794.jpg', 'dog.1795.jpg', 'dog.1796.jpg', 'dog.1797.jpg', 'dog.1798.jpg', 'dog.1799.jpg', 'dog.1800.jpg', 'dog.1801.jpg', 'dog.1802.jpg', 'dog.1803.jpg', 'dog.1804.jpg', 'dog.1805.jpg', 'dog.1806.jpg', 'dog.1807.jpg', 'dog.1808.jpg', 'dog.1809.jpg', 'dog.1810.jpg', 'dog.1811.jpg', 'dog.1812.jpg', 'dog.1813.jpg', 'dog.1814.jpg', 'dog.1815.jpg', 'dog.1816.jpg', 'dog.1817.jpg', 'dog.1818.jpg', 'dog.1819.jpg', 'dog.1820.jpg', 'dog.1821.jpg', 'dog.1822.jpg', 'dog.1823.jpg', 'dog.1824.jpg', 'dog.1825.jpg', 'dog.1826.jpg', 'dog.1827.jpg', 'dog.1828.jpg', 'dog.1829.jpg', 'dog.1830.jpg', 'dog.1831.jpg', 'dog.1832.jpg', 'dog.1833.jpg', 'dog.1834.jpg', 'dog.1835.jpg', 'dog.1836.jpg', 'dog.1837.jpg', 'dog.1838.jpg', 'dog.1839.jpg', 'dog.1840.jpg', 'dog.1841.jpg', 'dog.1842.jpg', 'dog.1843.jpg', 'dog.1844.jpg', 'dog.1845.jpg', 'dog.1846.jpg', 'dog.1847.jpg', 'dog.1848.jpg', 'dog.1849.jpg', 'dog.1850.jpg', 'dog.1851.jpg', 'dog.1852.jpg', 'dog.1853.jpg', 'dog.1854.jpg', 'dog.1855.jpg', 'dog.1856.jpg', 'dog.1857.jpg', 'dog.1858.jpg', 'dog.1859.jpg', 'dog.1860.jpg', 'dog.1861.jpg', 'dog.1862.jpg', 'dog.1863.jpg', 'dog.1864.jpg', 'dog.1865.jpg', 'dog.1866.jpg', 'dog.1867.jpg', 'dog.1868.jpg', 'dog.1869.jpg', 'dog.1870.jpg', 'dog.1871.jpg', 'dog.1872.jpg', 'dog.1873.jpg', 'dog.1874.jpg', 'dog.1875.jpg', 'dog.1876.jpg', 'dog.1877.jpg', 'dog.1878.jpg', 'dog.1879.jpg', 'dog.1880.jpg', 'dog.1881.jpg', 'dog.1882.jpg', 'dog.1883.jpg', 'dog.1884.jpg', 'dog.1885.jpg', 'dog.1886.jpg', 'dog.1887.jpg', 'dog.1888.jpg', 'dog.1889.jpg', 'dog.1890.jpg', 'dog.1891.jpg', 'dog.1892.jpg', 'dog.1893.jpg', 'dog.1894.jpg', 'dog.1895.jpg', 'dog.1896.jpg', 'dog.1897.jpg', 'dog.1898.jpg', 'dog.1899.jpg', 'dog.1900.jpg', 'dog.1901.jpg', 'dog.1902.jpg', 'dog.1903.jpg', 'dog.1904.jpg', 'dog.1905.jpg', 'dog.1906.jpg', 'dog.1907.jpg', 'dog.1908.jpg', 'dog.1909.jpg', 'dog.1910.jpg', 'dog.1911.jpg', 'dog.1912.jpg', 'dog.1913.jpg', 'dog.1914.jpg', 'dog.1915.jpg', 'dog.1916.jpg', 'dog.1917.jpg', 'dog.1918.jpg', 'dog.1919.jpg', 'dog.1920.jpg', 'dog.1921.jpg', 'dog.1922.jpg', 'dog.1923.jpg', 'dog.1924.jpg', 'dog.1925.jpg', 'dog.1926.jpg', 'dog.1927.jpg', 'dog.1928.jpg', 'dog.1929.jpg', 'dog.1930.jpg', 'dog.1931.jpg', 'dog.1932.jpg', 'dog.1933.jpg', 'dog.1934.jpg', 'dog.1935.jpg', 'dog.1936.jpg', 'dog.1937.jpg', 'dog.1938.jpg', 'dog.1939.jpg', 'dog.1940.jpg', 'dog.1941.jpg', 'dog.1942.jpg', 'dog.1943.jpg', 'dog.1944.jpg', 'dog.1945.jpg', 'dog.1946.jpg', 'dog.1947.jpg', 'dog.1948.jpg', 'dog.1949.jpg', 'dog.1950.jpg', 'dog.1951.jpg', 'dog.1952.jpg', 'dog.1953.jpg', 'dog.1954.jpg', 'dog.1955.jpg', 'dog.1956.jpg', 'dog.1957.jpg', 'dog.1958.jpg', 'dog.1959.jpg', 'dog.1960.jpg', 'dog.1961.jpg', 'dog.1962.jpg', 'dog.1963.jpg', 'dog.1964.jpg', 'dog.1965.jpg', 'dog.1966.jpg', 'dog.1967.jpg', 'dog.1968.jpg', 'dog.1969.jpg', 'dog.1970.jpg', 'dog.1971.jpg', 'dog.1972.jpg', 'dog.1973.jpg', 'dog.1974.jpg', 'dog.1975.jpg', 'dog.1976.jpg', 'dog.1977.jpg', 'dog.1978.jpg', 'dog.1979.jpg', 'dog.1980.jpg', 'dog.1981.jpg', 'dog.1982.jpg', 'dog.1983.jpg', 'dog.1984.jpg', 'dog.1985.jpg', 'dog.1986.jpg', 'dog.1987.jpg', 'dog.1988.jpg', 'dog.1989.jpg', 'dog.1990.jpg', 'dog.1991.jpg', 'dog.1992.jpg', 'dog.1993.jpg', 'dog.1994.jpg', 'dog.1995.jpg', 'dog.1996.jpg', 'dog.1997.jpg', 'dog.1998.jpg', 'dog.1999.jpg']\n"
          ],
          "name": "stdout"
        }
      ]
    },
    {
      "cell_type": "code",
      "metadata": {
        "id": "-lTashwnIWQb",
        "colab_type": "code",
        "outputId": "556ed829-a5c2-46b0-e4ac-0278ee92d035",
        "colab": {
          "base_uri": "https://localhost:8080/",
          "height": 130
        }
      },
      "source": [
        "#Sanity Check\n",
        "print('total training cat images:', len(os.listdir(train_cats_dir)))\n",
        "print('total training dog images:', len(os.listdir(train_dogs_dir)))\n",
        "print('total validation cat images:', len(os.listdir(validation_cats_dir)))\n",
        "print('total validation dog images:', len(os.listdir(validation_dogs_dir)))\n",
        "print('total test cat images:', len(os.listdir(test_cats_dir)))\n",
        "print('total test dog images:', len(os.listdir(test_dogs_dir)))"
      ],
      "execution_count": 159,
      "outputs": [
        {
          "output_type": "stream",
          "text": [
            "total training cat images: 0\n",
            "total training dog images: 0\n",
            "total validation cat images: 0\n",
            "total validation dog images: 0\n",
            "total test cat images: 0\n",
            "total test dog images: 0\n"
          ],
          "name": "stdout"
        }
      ]
    }
  ]
}